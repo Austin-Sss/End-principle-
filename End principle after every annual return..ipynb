{
  "metadata": {
    "language_info": {
      "codemirror_mode": {
        "name": "python",
        "version": 3
      },
      "file_extension": ".py",
      "mimetype": "text/x-python",
      "name": "python",
      "nbconvert_exporter": "python",
      "pygments_lexer": "ipython3",
      "version": "3.8"
    },
    "kernelspec": {
      "name": "python",
      "display_name": "Python (Pyodide)",
      "language": "python"
    }
  },
  "nbformat_minor": 4,
  "nbformat": 4,
  "cells": [
    {
      "cell_type": "code",
      "source": "\ndef invest(amount, rate, years):\n    #\"display\"\n    for year in range(1, years + 1):\n\t\t\t\t\n        amount = amount*(1+rate)\n\t\t\t\t#What you will see\n        print(f\"year{year}:${amount:,.2f}\")\n\n#gather\n#inv_amount = float(input(\"enter start amount\"))\n#inv_rate = float(input(\"enter rate\"))\n#inv_years = int(input(\"enter years\"))\n\ninv_amount = float(100)\ninv_rate = float(.03)\ninv_years = int(3)\n\n\n#call\ninvest(inv_amount, inv_rate, inv_years)",
      "metadata": {
        "trusted": true
      },
      "execution_count": 1,
      "outputs": [
        {
          "name": "stdout",
          "text": "year1:$103.00\nyear2:$106.09\nyear3:$109.27\n",
          "output_type": "stream"
        }
      ]
    },
    {
      "cell_type": "code",
      "source": "",
      "metadata": {},
      "execution_count": null,
      "outputs": []
    }
  ]
}